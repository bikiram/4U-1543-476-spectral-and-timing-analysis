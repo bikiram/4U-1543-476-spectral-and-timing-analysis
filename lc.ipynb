{
 "cells": [
  {
   "cell_type": "code",
   "execution_count": 7,
   "id": "b569cc77",
   "metadata": {},
   "outputs": [],
   "source": [
    "import numpy as np\n",
    "import astropy.io.fits as pyfits\n",
    "from matplotlib import pyplot as plt\n",
    "from scipy.fft import fft, fftfreq"
   ]
  },
  {
   "cell_type": "code",
   "execution_count": 8,
   "id": "451f43b6",
   "metadata": {},
   "outputs": [],
   "source": [
    "fitsfile1 = 'lxp2level2_4494.evn'\n",
    "fitsfile2 = 'lxp2level2_4526.evn'\n",
    "fitsfile3 = 'lxp2level2_4552.evn'\n",
    "fitsfile4 = 'lxp2level2_4588.evn'\n",
    "fitsfile5 = 'lxp2level2_4622.evn'\n",
    "fitsfile6 = 'lxp2level2_4680.evn'\n",
    "fitsfile7 = 'lxp2level2_4686.evn'"
   ]
  },
  {
   "cell_type": "code",
   "execution_count": 3,
   "id": "b9566219",
   "metadata": {},
   "outputs": [],
   "source": [
    "fitsfile1 = 'bary_corr_4494_lxp2level2.evn'\n",
    "fitsfile2 = 'bary_corr_4526_lxp2level2.evn'\n",
    "fitsfile3 = 'bary_corr_4552_lxp2level2.evn'\n",
    "fitsfile4 = 'bary_corr_4588_lxp2level2.evn'\n",
    "fitsfile5 = 'bary_corr_4622_lxp2level2.evn'\n",
    "fitsfile6 = 'bary_corr_4680_lxp2level2.evn'\n",
    "fitsfile7 = 'bary_corr_4686_lxp2level2.evn'"
   ]
  },
  {
   "cell_type": "code",
   "execution_count": 10,
   "id": "29cc5765",
   "metadata": {},
   "outputs": [
    {
     "name": "stdout",
     "output_type": "stream",
     "text": [
      "<class 'list'>\n"
     ]
    }
   ],
   "source": [
    "f=[fitsfile1,fitsfile2,fitsfile3,fitsfile4,fitsfile5,fitsfile6,fitsfile7]\n",
    "tt1=[]\n",
    "print(type(tt1))\n"
   ]
  },
  {
   "cell_type": "code",
   "execution_count": 21,
   "id": "f052d5fe",
   "metadata": {},
   "outputs": [
    {
     "name": "stdout",
     "output_type": "stream",
     "text": [
      "[<astropy.io.fits.hdu.image.PrimaryHDU object at 0x7f1667c20190>, <astropy.io.fits.hdu.table.BinTableHDU object at 0x7f165c49a7c0>, <astropy.io.fits.hdu.table.BinTableHDU object at 0x7f165c49abb0>, <astropy.io.fits.hdu.table.BinTableHDU object at 0x7f165c49a880>] fxx\n",
      "[(3.62797177e+08,  92, 1, 2) (3.62797177e+08,  74, 2, 2)\n",
      " (3.62797177e+08, 101, 6, 2) ... (3.62836390e+08,   5, 1, 2)\n",
      " (3.62836390e+08,   5, 2, 2) (3.62836390e+08,   7, 2, 2)] d\n",
      "tt1 [0.00000000e+00 7.53009319e-03 8.38011503e-03 ... 3.92135795e+04\n",
      " 3.92135799e+04 3.92135819e+04]\n"
     ]
    },
    {
     "data": {
      "text/plain": [
       "Text(0.5, 1.0, 'light curve of')"
      ]
     },
     "execution_count": 21,
     "metadata": {},
     "output_type": "execute_result"
    },
    {
     "data": {
      "image/png": "[encoded data removed]",
      "text/plain": [
       "<Figure size 432x288 with 1 Axes>"
      ]
     },
     "metadata": {
      "needs_background": "light"
     },
     "output_type": "display_data"
    }
   ],
   "source": [
    "\n",
    "f1 = pyfits.open(f[0])\n",
    "print(f1,'fxx') \n",
    "h=f1[1].header\n",
    "d=f1[1].data\n",
    "print(d,'d')\n",
    "time=np.array(d['TIME'])\n",
    "tt1=time-time[0]\n",
    "print(\"tt1\",tt1)\n",
    "bins=round((max(tt1)-min(tt1)))\n",
    "plt.hist(tt1,int(bins),histtype='step')\n",
    "plt.xlabel('time')\n",
    "plt.ylabel('count_rate')\n",
    "plt.title('light curve of')"
   ]
  },
  {
   "cell_type": "code",
   "execution_count": 22,
   "id": "8da652c1",
   "metadata": {},
   "outputs": [
    {
     "name": "stdout",
     "output_type": "stream",
     "text": [
      "1862.5740499659041\n"
     ]
    },
    {
     "data": {
      "text/plain": [
       "0.33980215465232216"
      ]
     },
     "execution_count": 22,
     "metadata": {},
     "output_type": "execute_result"
    }
   ],
   "source": [
    "aa=np.histogram(tt1,int(bins))\n",
    "a=aa[0]\n",
    "a2=a[a>1500]\n",
    "cr=sum(a2)/len(a2)\n",
    "print(cr)\n",
    "np.sqrt(cr/len(a2))\n",
    "\n"
   ]
  },
  {
   "cell_type": "code",
   "execution_count": 11,
   "id": "90a383a9",
   "metadata": {},
   "outputs": [
    {
     "name": "stdout",
     "output_type": "stream",
     "text": [
      "[(3.63600377e+08,  5, 1, 2) (3.63600377e+08,  6, 2, 2)\n",
      " (3.63600377e+08,  5, 1, 2) ... (3.63636922e+08, 10, 2, 2)\n",
      " (3.63636922e+08,  6, 2, 2) (3.63636922e+08,  4, 2, 2)] d\n"
     ]
    }
   ],
   "source": [
    "f1 = pyfits.open(f[1])\n",
    "#print(f1,'fxx') \n",
    "h=f1[1].header\n",
    "d=f1[1].data\n",
    "print(d,'d')\n",
    "time=np.array(d['TIME'])"
   ]
  },
  {
   "cell_type": "code",
   "execution_count": 12,
   "id": "2cc797fb",
   "metadata": {},
   "outputs": [
    {
     "data": {
      "text/plain": [
       "363600376.8881883"
      ]
     },
     "execution_count": 12,
     "metadata": {},
     "output_type": "execute_result"
    }
   ],
   "source": [
    "time[0]\n"
   ]
  },
  {
   "cell_type": "code",
   "execution_count": 13,
   "id": "bf479bbb",
   "metadata": {},
   "outputs": [
    {
     "data": {
      "text/plain": [
       "2526.8959961533546"
      ]
     },
     "execution_count": 13,
     "metadata": {},
     "output_type": "execute_result"
    }
   ],
   "source": [
    "363600376.8881883-363597849.99219215"
   ]
  },
  {
   "cell_type": "code",
   "execution_count": 3,
   "id": "b4335279",
   "metadata": {},
   "outputs": [],
   "source": [
    "a=[167.46631728,2973.12007999,6055.37286581,9081.35372994,12316.99266141,14774.71674766,17911.34237226,21244.76175206,24163.0168801,27183.02919792,30427.94719275,33030.00329786,33030.00329786,33030.00329786]\n",
    "b=363600376.8881883"
   ]
  },
  {
   "cell_type": "code",
   "execution_count": 4,
   "id": "c5e7b739",
   "metadata": {},
   "outputs": [
    {
     "data": {
      "text/plain": [
       "[363600544.3545056,\n",
       " 363603350.0082683,\n",
       " 363606432.2610541,\n",
       " 363609458.24191827,\n",
       " 363612693.8808497,\n",
       " 363615151.60493594,\n",
       " 363618288.23056054,\n",
       " 363621621.6499404,\n",
       " 363624539.9050684,\n",
       " 363627559.91738623,\n",
       " 363630804.83538103,\n",
       " 363633406.89148617,\n",
       " 363633406.89148617,\n",
       " 363633406.89148617]"
      ]
     },
     "execution_count": 4,
     "metadata": {},
     "output_type": "execute_result"
    }
   ],
   "source": [
    "list(map(lambda x: x + b, a))"
   ]
  },
  {
   "cell_type": "code",
   "execution_count": 16,
   "id": "f6a6c650",
   "metadata": {},
   "outputs": [],
   "source": [
    "a=[2574,5696,8419,11966,14265,18180,20266,24092,26525,29937,32788,35781,39076,39105]\n",
    "b=363600376.8881883"
   ]
  },
  {
   "cell_type": "code",
   "execution_count": 17,
   "id": "a2c42061",
   "metadata": {},
   "outputs": [
    {
     "data": {
      "text/plain": [
       "[363602950.8881883,\n",
       " 363606072.8881883,\n",
       " 363608795.8881883,\n",
       " 363612342.8881883,\n",
       " 363614641.8881883,\n",
       " 363618556.8881883,\n",
       " 363620642.8881883,\n",
       " 363624468.8881883,\n",
       " 363626901.8881883,\n",
       " 363630313.8881883,\n",
       " 363633164.8881883,\n",
       " 363636157.8881883,\n",
       " 363639452.8881883,\n",
       " 363639481.8881883]"
      ]
     },
     "execution_count": 17,
     "metadata": {},
     "output_type": "execute_result"
    }
   ],
   "source": [
    "list(map(lambda x: x + b, a))"
   ]
  },
  {
   "cell_type": "code",
   "execution_count": 1,
   "id": "867fb8c2",
   "metadata": {},
   "outputs": [],
   "source": [
    "import numpy as np\n",
    "a=[3946.18720644,6277.16695055,10230.02283236,12271.92861265,16379.73043396,18041.29705027,22728.80886606,24012.05157744,29001.73654084,29763.75516068,32096.50910415,32828.31330195,35166.80928733,35633.82869607,37944.58353186,39104.08065992,43793.06293985,45274.38922297,49710.51916868,51198.32031518]\n",
    "#ar = np.array(a)\n",
    "b=364316629.819755\n"
   ]
  },
  {
   "cell_type": "code",
   "execution_count": 2,
   "id": "1fde2878",
   "metadata": {},
   "outputs": [
    {
     "data": {
      "text/plain": [
       "[363604323.07539475,\n",
       " 363606654.0551388,\n",
       " 363610606.91102064,\n",
       " 363612648.81680095,\n",
       " 363616756.61862224,\n",
       " 363618418.1852386,\n",
       " 363623105.6970544,\n",
       " 363624388.93976575,\n",
       " 363629378.62472916,\n",
       " 363630140.643349,\n",
       " 363632473.39729244,\n",
       " 363633205.2014902,\n",
       " 363635543.6974756,\n",
       " 363636010.7168844,\n",
       " 363638321.47172016,\n",
       " 363639480.9688482,\n",
       " 363644169.9511281,\n",
       " 363645651.2774113,\n",
       " 363650087.407357,\n",
       " 363651575.2085035]"
      ]
     },
     "execution_count": 2,
     "metadata": {},
     "output_type": "execute_result"
    }
   ],
   "source": [
    "list(map(lambda x: x + b, a))"
   ]
  },
  {
   "cell_type": "code",
   "execution_count": 20,
   "id": "18d11132",
   "metadata": {},
   "outputs": [
    {
     "ename": "TypeError",
     "evalue": "can only concatenate list (not \"int\") to list",
     "output_type": "error",
     "traceback": [
      "\u001b[0;31m---------------------------------------------------------------------------\u001b[0m",
      "\u001b[0;31mTypeError\u001b[0m                                 Traceback (most recent call last)",
      "Input \u001b[0;32mIn [20]\u001b[0m, in \u001b[0;36m<cell line: 1>\u001b[0;34m()\u001b[0m\n\u001b[0;32m----> 1\u001b[0m c\u001b[38;5;241m=\u001b[39m\u001b[43ma\u001b[49m\u001b[38;5;241;43m+\u001b[39;49m\u001b[38;5;241;43m364316629\u001b[39;49m\n",
      "\u001b[0;31mTypeError\u001b[0m: can only concatenate list (not \"int\") to list"
     ]
    }
   ],
   "source": [
    "c=a+364316629"
   ]
  },
  {
   "cell_type": "code",
   "execution_count": 13,
   "id": "ef42d272",
   "metadata": {},
   "outputs": [
    {
     "name": "stdout",
     "output_type": "stream",
     "text": [
      "[(3.63600377e+08,  5, 1, 2) (3.63600377e+08,  6, 2, 2)\n",
      " (3.63600377e+08,  5, 1, 2) ... (3.63636922e+08, 10, 2, 2)\n",
      " (3.63636922e+08,  6, 2, 2) (3.63636922e+08,  4, 2, 2)] d\n",
      "tt1 [0.00000000e+00 2.99990177e-04 5.19990921e-04 ... 3.65450920e+04\n",
      " 3.65450923e+04 3.65450925e+04]\n",
      "1536.6235174084939 count_rate\n",
      "1536.6235174084939\n",
      "0.44268826626095326\n"
     ]
    },
    {
     "data": {
      "image/png": "[encoded data removed]",
      "text/plain": [
       "<Figure size 432x288 with 1 Axes>"
      ]
     },
     "metadata": {
      "needs_background": "light"
     },
     "output_type": "display_data"
    }
   ],
   "source": [
    "\n",
    "f1 = pyfits.open(f[1])\n",
    "#print(f1,'fxx') \n",
    "h=f1[1].header\n",
    "d=f1[1].data\n",
    "print(d,'d')\n",
    "time=np.array(d['TIME'])\n",
    "tt1=time-time[0]\n",
    "print(\"tt1\",tt1)\n",
    "bins=round((max(tt1)-min(tt1)))\n",
    "plt.hist(tt1,int(bins),histtype='step')\n",
    "plt.xlabel('time')\n",
    "plt.ylabel('count_rate')\n",
    "plt.title('light curve of')\n",
    "aa=np.histogram(tt1,int(bins))\n",
    "a=aa[0]\n",
    "a2=a[a>1500]\n",
    "cr=sum(a2)/len(a2)\n",
    "print(sum(a2)/len(a2),'count_rate')\n",
    "print(cr)\n",
    "print(np.sqrt(cr/len(a2)))\n",
    "\n"
   ]
  },
  {
   "cell_type": "code",
   "execution_count": 14,
   "id": "67c662b4",
   "metadata": {},
   "outputs": [
    {
     "name": "stdout",
     "output_type": "stream",
     "text": [
      "[(3.64316624e+08,   8, 2, 2) (3.64316624e+08,  13, 1, 2)\n",
      " (3.64316624e+08,   5, 1, 2) ... (3.64368046e+08, 112, 7, 2)\n",
      " (3.64368046e+08,  79, 5, 2) (3.64368046e+08,  37, 7, 2)] d\n",
      "tt1 [0.00000000e+00 1.70004368e-03 2.13003159e-03 ... 5.14227744e+04\n",
      " 5.14227747e+04 5.14227768e+04]\n"
     ]
    },
    {
     "data": {
      "text/plain": [
       "Text(0.5, 1.0, 'light curve of')"
      ]
     },
     "execution_count": 14,
     "metadata": {},
     "output_type": "execute_result"
    },
    {
     "data": {
      "image/png": "[encoded data removed]",
      "text/plain": [
       "<Figure size 432x288 with 1 Axes>"
      ]
     },
     "metadata": {
      "needs_background": "light"
     },
     "output_type": "display_data"
    }
   ],
   "source": [
    "\n",
    "f1 = pyfits.open(f[2])\n",
    "#print(f1,'fxx') \n",
    "h=f1[1].header\n",
    "d=f1[1].data\n",
    "print(d,'d')\n",
    "time=np.array(d['TIME'])\n",
    "tt1=time-time[0]\n",
    "print(\"tt1\",tt1)\n",
    "bins=round((max(tt1)-min(tt1)))\n",
    "plt.hist(tt1,int(bins),histtype='step')\n",
    "plt.xlabel('time')\n",
    "plt.ylabel('count_rate')\n",
    "plt.title('light curve of')\n"
   ]
  },
  {
   "cell_type": "code",
   "execution_count": 23,
   "id": "e6c5fb4b",
   "metadata": {},
   "outputs": [
    {
     "name": "stdout",
     "output_type": "stream",
     "text": [
      "[(3.64316624e+08,   8, 2, 2) (3.64316624e+08,  13, 1, 2)\n",
      " (3.64316624e+08,   5, 1, 2) ... (3.64368046e+08, 112, 7, 2)\n",
      " (3.64368046e+08,  79, 5, 2) (3.64368046e+08,  37, 7, 2)] d\n"
     ]
    }
   ],
   "source": [
    "\n",
    "f1 = pyfits.open(f[2])\n",
    "#print(f1,'fxx') \n",
    "h=f1[1].header\n",
    "d=f1[1].data\n",
    "print(d,'d')\n",
    "time=np.array(d['TIME'])\n",
    "tt1=time-time[0]"
   ]
  },
  {
   "cell_type": "code",
   "execution_count": 26,
   "id": "78dfab63",
   "metadata": {},
   "outputs": [
    {
     "data": {
      "text/plain": [
       "(364316623.71887577, 364316623.7205758, 0.0017000436782836914)"
      ]
     },
     "execution_count": 26,
     "metadata": {},
     "output_type": "execute_result"
    }
   ],
   "source": [
    "time[0],time[1],time[1]-time[0]"
   ]
  },
  {
   "cell_type": "code",
   "execution_count": 18,
   "id": "056f0d68",
   "metadata": {},
   "outputs": [
    {
     "name": "stdout",
     "output_type": "stream",
     "text": [
      "1225.2612626496123 count_rate\n",
      "1225.2612626496123\n",
      "0.2508793045894589\n"
     ]
    }
   ],
   "source": [
    "aa=np.histogram(tt1,int(bins))\n",
    "a=aa[0]\n",
    "a2=a[a>1000]\n",
    "cr=sum(a2)/len(a2)\n",
    "print(sum(a2)/len(a2),'count_rate')\n",
    "print(cr)\n",
    "print(np.sqrt(cr/len(a2)))\n"
   ]
  },
  {
   "cell_type": "code",
   "execution_count": 19,
   "id": "22810f30",
   "metadata": {},
   "outputs": [
    {
     "name": "stdout",
     "output_type": "stream",
     "text": [
      "[(3.64968024e+08, 19, 1, 2) (3.64968024e+08,  5, 1, 2)\n",
      " (3.64968024e+08,  6, 1, 2) ... (3.64985892e+08,  5, 2, 2)\n",
      " (3.64985892e+08,  5, 2, 2) (3.64985892e+08,  4, 1, 2)] d\n",
      "tt1 [0.00000000e+00 9.00030136e-05 4.99963760e-04 ... 1.78682673e+04\n",
      " 1.78682686e+04 1.78682688e+04]\n"
     ]
    },
    {
     "data": {
      "text/plain": [
       "Text(0.5, 1.0, 'light curve of')"
      ]
     },
     "execution_count": 19,
     "metadata": {},
     "output_type": "execute_result"
    },
    {
     "data": {
      "image/png": "[encoded data removed]",
      "text/plain": [
       "<Figure size 432x288 with 1 Axes>"
      ]
     },
     "metadata": {
      "needs_background": "light"
     },
     "output_type": "display_data"
    }
   ],
   "source": [
    "\n",
    "f1 = pyfits.open(f[3])\n",
    "#print(f1,'fxx') \n",
    "h=f1[1].header\n",
    "d=f1[1].data\n",
    "print(d,'d')\n",
    "time=np.array(d['TIME'])\n",
    "tt1=time-time[0]\n",
    "print(\"tt1\",tt1)\n",
    "bins=round((max(tt1)-min(tt1)))\n",
    "plt.hist(tt1,int(bins),histtype='step')\n",
    "plt.xlabel('time')\n",
    "plt.ylabel('count_rate')\n",
    "plt.title('light curve of')\n"
   ]
  },
  {
   "cell_type": "code",
   "execution_count": 20,
   "id": "6c48d5c4",
   "metadata": {},
   "outputs": [
    {
     "name": "stdout",
     "output_type": "stream",
     "text": [
      "3561.289483603468 count_rate\n",
      "3561.289483603468 count_rate\n",
      "3561.289483603468\n",
      "0.6689203160280439\n"
     ]
    }
   ],
   "source": [
    "aa=np.histogram(tt1,int(bins))\n",
    "a=aa[0]\n",
    "a2=a[a>3000]\n",
    "print(sum(a2)/len(a2),'count_rate')\n",
    "cr=sum(a2)/len(a2)\n",
    "print(sum(a2)/len(a2),'count_rate')\n",
    "print(cr)\n",
    "print(np.sqrt(cr/len(a2)))"
   ]
  },
  {
   "cell_type": "code",
   "execution_count": 23,
   "id": "a55f0c5d",
   "metadata": {},
   "outputs": [
    {
     "name": "stdout",
     "output_type": "stream",
     "text": [
      "[(3.65766445e+08, 12, 1, 2) (3.65766445e+08, 54, 7, 2)\n",
      " (3.65766445e+08,  5, 1, 2) ... (3.65835556e+08,  6, 2, 2)\n",
      " (3.65835556e+08,  7, 2, 2) (3.65835556e+08,  4, 1, 2)] d\n",
      "tt1 [0.00000000e+00 5.00082970e-05 5.99980354e-04 ... 6.91110437e+04\n",
      " 6.91110438e+04 6.91110444e+04]\n"
     ]
    },
    {
     "data": {
      "text/plain": [
       "Text(0.5, 1.0, 'light curve of')"
      ]
     },
     "execution_count": 23,
     "metadata": {},
     "output_type": "execute_result"
    },
    {
     "data": {
      "image/png": "[encoded data removed]",
      "text/plain": [
       "<Figure size 432x288 with 1 Axes>"
      ]
     },
     "metadata": {
      "needs_background": "light"
     },
     "output_type": "display_data"
    }
   ],
   "source": [
    "\n",
    "f1 = pyfits.open(f[4])\n",
    "#print(f1,'fxx') \n",
    "h=f1[1].header\n",
    "d=f1[1].data\n",
    "print(d,'d')\n",
    "time=np.array(d['TIME'])\n",
    "tt1=time-time[0]\n",
    "print(\"tt1\",tt1)\n",
    "bins=round((max(tt1)-min(tt1)))\n",
    "plt.hist(tt1,int(bins),histtype='step')\n",
    "plt.xlabel('time')\n",
    "plt.ylabel('count_rate')\n",
    "plt.title('light curve of')\n"
   ]
  },
  {
   "cell_type": "code",
   "execution_count": 24,
   "id": "85695b3d",
   "metadata": {},
   "outputs": [
    {
     "name": "stdout",
     "output_type": "stream",
     "text": [
      "3258.6185254919333 count_rate\n",
      "3258.6185254919333 count_rate\n",
      "3258.6185254919333\n",
      "0.346845694003027\n"
     ]
    }
   ],
   "source": [
    "aa=np.histogram(tt1,int(bins))\n",
    "a=aa[0]\n",
    "a2=a[a>3000]\n",
    "print(sum(a2)/len(a2),'count_rate')\n",
    "cr=sum(a2)/len(a2)\n",
    "print(sum(a2)/len(a2),'count_rate')\n",
    "print(cr)\n",
    "print(np.sqrt(cr/len(a2)))"
   ]
  },
  {
   "cell_type": "code",
   "execution_count": 18,
   "id": "c768709c",
   "metadata": {},
   "outputs": [
    {
     "name": "stdout",
     "output_type": "stream",
     "text": [
      "[(3.68065553e+08, 7, 1, 2) (3.68065553e+08, 6, 1, 2)\n",
      " (3.68065553e+08, 7, 2, 2) ... (3.68183440e+08, 4, 2, 2)\n",
      " (3.68183440e+08, 7, 1, 2) (3.68183440e+08, 8, 1, 2)] d\n",
      "tt1 [0.00000000e+00 2.80022621e-04 4.19974327e-04 ... 1.17886783e+05\n",
      " 1.17886784e+05 1.17886784e+05]\n"
     ]
    },
    {
     "data": {
      "text/plain": [
       "Text(0.5, 1.0, 'light curve of')"
      ]
     },
     "execution_count": 18,
     "metadata": {},
     "output_type": "execute_result"
    },
    {
     "data": {
      "image/png": "[encoded data removed]",
      "text/plain": [
       "<Figure size 432x288 with 1 Axes>"
      ]
     },
     "metadata": {
      "needs_background": "light"
     },
     "output_type": "display_data"
    }
   ],
   "source": [
    "f1 = pyfits.open(f[5])\n",
    "#print(f1,'fxx') \n",
    "h=f1[1].header\n",
    "d=f1[1].data\n",
    "print(d,'d')\n",
    "time=np.array(d['TIME'])\n",
    "tt1=time-time[0]\n",
    "print(\"tt1\",tt1)\n",
    "bins=round((max(tt1)-min(tt1)))\n",
    "plt.hist(tt1,int(bins),histtype='step')\n",
    "plt.xlabel('time')\n",
    "plt.ylabel('count_rate')\n",
    "plt.title('light curve of')"
   ]
  },
  {
   "cell_type": "code",
   "execution_count": 19,
   "id": "365dfcca",
   "metadata": {},
   "outputs": [],
   "source": [
    "aa=np.histogram(tt1,int(bins))\n"
   ]
  },
  {
   "cell_type": "code",
   "execution_count": null,
   "id": "b3a7f9f6",
   "metadata": {},
   "outputs": [],
   "source": []
  },
  {
   "cell_type": "code",
   "execution_count": 27,
   "id": "6f25aad8",
   "metadata": {},
   "outputs": [
    {
     "name": "stdout",
     "output_type": "stream",
     "text": [
      "2952.2277156805458 count_rate\n",
      "2952.2277156805458 count_rate\n",
      "2952.2277156805458\n",
      "0.23589566118700608\n"
     ]
    }
   ],
   "source": [
    "aa=np.histogram(tt1,int(bins))\n",
    "a=aa[0]\n",
    "a2=a[a>2500]\n",
    "print(sum(a2)/len(a2),'count_rate')\n",
    "cr=sum(a2)/len(a2)\n",
    "print(sum(a2)/len(a2),'count_rate')\n",
    "print(cr)\n",
    "print(np.sqrt(cr/len(a2)))"
   ]
  },
  {
   "cell_type": "code",
   "execution_count": 28,
   "id": "d38d5946",
   "metadata": {},
   "outputs": [
    {
     "name": "stdout",
     "output_type": "stream",
     "text": [
      "[(3.68410489e+08,  5, 1, 2) (3.68410489e+08,  5, 2, 2)\n",
      " (3.68410489e+08,  8, 1, 2) ... (3.68465726e+08,  8, 1, 2)\n",
      " (3.68465726e+08, 25, 5, 2) (3.68465726e+08, 11, 1, 2)] d\n",
      "tt1 [0.00000000e+00 3.30030918e-04 5.99980354e-04 ... 5.52378349e+04\n",
      " 5.52378349e+04 5.52378351e+04]\n"
     ]
    },
    {
     "data": {
      "text/plain": [
       "Text(0.5, 1.0, 'light curve of')"
      ]
     },
     "execution_count": 28,
     "metadata": {},
     "output_type": "execute_result"
    },
    {
     "data": {
      "image/png": "[encoded data removed]",
      "text/plain": [
       "<Figure size 432x288 with 1 Axes>"
      ]
     },
     "metadata": {
      "needs_background": "light"
     },
     "output_type": "display_data"
    }
   ],
   "source": [
    "\n",
    "f1 = pyfits.open(f[6])\n",
    "#print(f1,'fxx') \n",
    "h=f1[1].header\n",
    "d=f1[1].data\n",
    "print(d,'d')\n",
    "time=np.array(d['TIME'])\n",
    "tt1=time-time[0]\n",
    "print(\"tt1\",tt1)\n",
    "bins=round((max(tt1)-min(tt1)))\n",
    "plt.hist(tt1,int(bins),histtype='step')\n",
    "plt.xlabel('time')\n",
    "plt.ylabel('count_rate')\n",
    "plt.title('light curve of')\n"
   ]
  },
  {
   "cell_type": "code",
   "execution_count": 29,
   "id": "c5e38148",
   "metadata": {},
   "outputs": [
    {
     "name": "stdout",
     "output_type": "stream",
     "text": [
      "2736.3613464977066 count_rate\n",
      "2736.3613464977066 count_rate\n",
      "2736.3613464977066\n",
      "0.3261373896461435\n"
     ]
    }
   ],
   "source": [
    "aa=np.histogram(tt1,int(bins))\n",
    "a=aa[0]\n",
    "a2=a[a>2500]\n",
    "print(sum(a2)/len(a2),'count_rate')\n",
    "cr=sum(a2)/len(a2)\n",
    "print(sum(a2)/len(a2),'count_rate')\n",
    "print(cr)\n",
    "print(np.sqrt(cr/len(a2)))"
   ]
  },
  {
   "cell_type": "code",
   "execution_count": 1,
   "id": "5ae63ede",
   "metadata": {},
   "outputs": [],
   "source": [
    "cr=[1862.57,1536.623,1225.26,3561.29,3258.62,2952.23,2736.36]\n",
    "c=[1.68,1.7730,1.813,1.5286,1.539,1.557,1.720]"
   ]
  },
  {
   "cell_type": "code",
   "execution_count": 3,
   "id": "a428a596",
   "metadata": {},
   "outputs": [
    {
     "data": {
      "text/plain": [
       "[<matplotlib.lines.Line2D at 0x7fcb64fdde50>]"
      ]
     },
     "execution_count": 3,
     "metadata": {},
     "output_type": "execute_result"
    },
    {
     "data": {
      "image/png": "[encoded data removed]",
      "text/plain": [
       "<Figure size 432x288 with 1 Axes>"
      ]
     },
     "metadata": {
      "needs_background": "light"
     },
     "output_type": "display_data"
    }
   ],
   "source": [
    "plt.plot(c,cr)\n",
    "plt.xticks()"
   ]
  }
 ],
 "metadata": {
  "kernelspec": {
   "display_name": "Python 3 (ipykernel)",
   "language": "python",
   "name": "python3"
  },
  "language_info": {
   "codemirror_mode": {
    "name": "ipython",
    "version": 3
   },
   "file_extension": ".py",
   "mimetype": "text/x-python",
   "name": "python",
   "nbconvert_exporter": "python",
   "pygments_lexer": "ipython3",
   "version": "3.8.10"
  }
 },
 "nbformat": 4,
 "nbformat_minor": 5
}
